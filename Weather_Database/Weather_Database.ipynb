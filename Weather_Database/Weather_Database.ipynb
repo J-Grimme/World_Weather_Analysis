{
 "cells": [
  {
   "cell_type": "markdown",
   "id": "bbadd521",
   "metadata": {},
   "source": [
    "# Deliverable Number 1"
   ]
  },
  {
   "cell_type": "code",
   "execution_count": null,
   "id": "a9bfab18",
   "metadata": {},
   "outputs": [],
   "source": [
    "# Import the dependencies.\n",
    "import pandas as pd\n",
    "import matplotlib.pyplot as plt\n",
    "import numpy as np\n",
    "\n",
    "import time\n",
    "from datetime import datetime\n",
    "\n",
    "from citipy import citipy"
   ]
  },
  {
   "cell_type": "markdown",
   "id": "90ab1538",
   "metadata": {},
   "source": [
    "# Retrieving the nearest city"
   ]
  },
  {
   "cell_type": "code",
   "execution_count": null,
   "id": "2234ba61",
   "metadata": {},
   "outputs": [],
   "source": [
    "# Creating a new set of 2,000 random latitudes and longitudes\n",
    "lats = np.random.uniform(low=-90.000, high=90.000, size=2000)\n",
    "lngs = np.random.uniform(low=180.000, high=180.000, size=2000)\n",
    "lat_lngs = zip(lats,lngs)\n",
    "\n",
    "coordinates = list(lat_lngs)\n",
    "\n",
    "cities = []\n",
    "for coordinate in coordinates:\n",
    "    city = citipy.nearest_(coordinate[0], coordinate[1]).city_name\n",
    "    \n",
    "    if city not in cities.append(city)\n",
    "\n",
    "len(cities)"
   ]
  },
  {
   "cell_type": "markdown",
   "id": "6b8d6a4a",
   "metadata": {},
   "source": [
    "# Performing an API call with the OpenWeatherMap"
   ]
  },
  {
   "cell_type": "code",
   "execution_count": null,
   "id": "aee12bf6",
   "metadata": {},
   "outputs": [],
   "source": [
    "# Import dependencies\n",
    "import requests\n",
    "from config import weather_api_key\n",
    "\n",
    "url = \"http://api.openweathermap.org/data/2.5/weather?units=Imerial&APPID=\" + weather_api_key"
   ]
  },
  {
   "cell_type": "code",
   "execution_count": null,
   "id": "171526dd",
   "metadata": {},
   "outputs": [],
   "source": [
    "city_data = []\n",
    "\n",
    "print(\"Beginning Data Retrieval    \")\n",
    "print(\"----------------------------\")\n",
    "\n",
    "record_count = 1\n",
    "set_count = 1\n",
    "\n",
    "for i, city in enumerate(cities):\n",
    "    if (i % 50 == 0 and i >= 50):\n",
    "        set_count += 1\n",
    "        record_count = 1\n",
    "        time.sleep(55)\n",
    "        \n",
    "    city_url = url + \"&q\" + city.replace(\" \",\"+\")\n",
    "    print(f\"Processing Record {record_count} of Set {set_count} | {city}\")\n",
    "    record_count += 1\n",
    "    \n",
    "# Running an API request for each other the cities\n",
    "try:\n",
    "    city_weather = requests.get(city_url).json()\n",
    "    city_lat = city_weather[\"coord\"][\"lat\"]\n",
    "    city_lng = city_weather[\"coord\"][\"lon\"]\n",
    "    city_max_temp = city_weather[\"main\"][\"temp_max\"]\n",
    "    city_humidity = city_weather[\"main\"][\"humidity\"]\n",
    "    city_wind = city_weather[\"wind\"][\"speed\"]\n",
    "    city_country = city_weather[\"sys\"][\"country\"]\n",
    "    city_description = city_weather[\"weather\"][0][\"description\"]\n",
    "# Changing the date to an ISO standard     \n",
    "    city_date = datetime.utcfromtimestamp(city_weather[\"dt\"]).strftime('%Y-%m-%d %H:%M:%S')\n",
    "# Appending the city information into city data list\n",
    "    city_data.append({\"City\": city.title(),\n",
    "                     \"Country\": city_country,\n",
    "                     \"Lat\": city_lat,\n",
    "                     \"Lng\": city_lng,\n",
    "                     \"Max Temp\": city_max_temp,\n",
    "                     \"Humidity\": city_humidity,\n",
    "                     \"Cloudiness\": city_clouds,\n",
    "                     \"Wind Speed\": city_wind,\n",
    "                     \"Current Description\": description})\n",
    "# Skipping the city, if an error comes up\n",
    "    except:\n",
    "        print(\"City not found. Skipping... \")\n",
    "        pass\n",
    "\n",
    "print(\"-------------------------\")\n",
    "print(\"Data Retrieval Complete  \")\n",
    "print(\"-------------------------\")"
   ]
  },
  {
   "cell_type": "code",
   "execution_count": null,
   "id": "ec4b8dc1",
   "metadata": {},
   "outputs": [],
   "source": [
    "len(city_data)"
   ]
  },
  {
   "cell_type": "code",
   "execution_count": null,
   "id": "c37017a7",
   "metadata": {},
   "outputs": [],
   "source": [
    "# Adding the data to a new Data Frame\n",
    "city_data _df = pd.DataFrame(city_data)\n",
    "city_data_df.head(10)"
   ]
  },
  {
   "cell_type": "code",
   "execution_count": null,
   "id": "462cdae9",
   "metadata": {},
   "outputs": [],
   "source": [
    "output_data_file = \"WeatherPy_Databaase.cvs\"\n",
    "city_data_df.to_csv(output_data_file, index_label=\"City_ID\")"
   ]
  }
 ],
 "metadata": {
  "kernelspec": {
   "display_name": "Python 3 (ipykernel)",
   "language": "python",
   "name": "python3"
  },
  "language_info": {
   "codemirror_mode": {
    "name": "ipython",
    "version": 3
   },
   "file_extension": ".py",
   "mimetype": "text/x-python",
   "name": "python",
   "nbconvert_exporter": "python",
   "pygments_lexer": "ipython3",
   "version": "3.9.7"
  }
 },
 "nbformat": 4,
 "nbformat_minor": 5
}
